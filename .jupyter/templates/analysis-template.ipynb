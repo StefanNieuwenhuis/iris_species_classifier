{
 "cells": [
  {
   "metadata": {},
   "cell_type": "markdown",
   "source": [
    "# {{ TITLE }}\n",
    "\n",
    "{{ Description }}"
   ],
   "id": "36ee553732f4b633"
  },
  {
   "metadata": {},
   "cell_type": "markdown",
   "source": "## Installation and Setup",
   "id": "a08ed5547de0c700"
  },
  {
   "metadata": {},
   "cell_type": "code",
   "outputs": [],
   "execution_count": null,
   "source": [
    "# ---\n",
    "# Install and Setup\n",
    "# ---\n",
    "\n",
    "# System\n",
    "import sys\n",
    "import os\n",
    "\n",
    "# Add the src directory to Python path\n",
    "sys.path.append(os.path.abspath(os.path.join(os.path.dirname(\"\"), \"../src\")))\n",
    "\n",
    "import pandas as pd\n",
    "import numpy as np\n",
    "\n",
    "\n",
    "# Visualization\n",
    "import matplotlib.pyplot as plt\n",
    "import seaborn as sns\n",
    "\n",
    "%matplotlib inline"
   ],
   "id": "3767ee0755c49e3"
  },
  {
   "metadata": {},
   "cell_type": "code",
   "outputs": [],
   "execution_count": null,
   "source": [
    "%%html\n",
    "<style>\n",
    "  table {margin-left: 0 !important;}\n",
    "</style>"
   ],
   "id": "a3a59c8e522352b2"
  }
 ],
 "metadata": {
  "kernelspec": {
   "display_name": "Python 3",
   "language": "python",
   "name": "python3"
  },
  "language_info": {
   "codemirror_mode": {
    "name": "ipython",
    "version": 2
   },
   "file_extension": ".py",
   "mimetype": "text/x-python",
   "name": "python",
   "nbconvert_exporter": "python",
   "pygments_lexer": "ipython2",
   "version": "2.7.6"
  }
 },
 "nbformat": 4,
 "nbformat_minor": 5
}
